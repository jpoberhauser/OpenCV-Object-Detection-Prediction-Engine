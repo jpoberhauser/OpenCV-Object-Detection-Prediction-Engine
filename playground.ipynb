{
 "cells": [
  {
   "cell_type": "markdown",
   "metadata": {},
   "source": [
    "#### data augmentation notebook: https://nbviewer.jupyter.org/github/ydixon/yolo_v3/blob/master/Data_Augmentation.ipynb"
   ]
  },
  {
   "cell_type": "markdown",
   "metadata": {},
   "source": [
    "## Inference (forward pass)\n",
    "\n",
    "\n",
    "* forward pass: https://www.learnopencv.com/deep-learning-based-object-detection-using-yolov3-with-opencv-python-c/\n",
    "\n",
    "* training own model: https://www.learnopencv.com/training-yolov3-deep-learning-based-custom-object-detector/"
   ]
  },
  {
   "cell_type": "code",
   "execution_count": 43,
   "metadata": {},
   "outputs": [],
   "source": [
    "import cv2 as cv\n",
    "import numpy as np\n",
    "import os\n",
    "import argparse\n",
    "from pathlib import Path"
   ]
  },
  {
   "cell_type": "code",
   "execution_count": 44,
   "metadata": {},
   "outputs": [],
   "source": [
    "# Initialize the parameters\n",
    "confThreshold = 0.5  #Confidence threshold\n",
    "nmsThreshold = 0.4   #Non-maximum suppression threshold\n",
    "inpWidth = 416       #Width of network's input image\n",
    "inpHeight = 416      #Height of network's input image\n"
   ]
  },
  {
   "cell_type": "code",
   "execution_count": 51,
   "metadata": {},
   "outputs": [],
   "source": [
    "def getOutputsNames(net):\n",
    "    layerNames = net.getLayerNames()\n",
    "    return [layerNames[i[0] - 1] for i in net.getUnconnectedOutLayers()]\n",
    "\n",
    "def drawPred(classId, conf, left, top, right,bottom):\n",
    "    cv.rectangle(frame, (left, top), (right, bottom),(255,178,50),3)\n",
    "    label = \"%.2f\" % conf\n",
    "    if classes:\n",
    "        assert(classId<len(classes))\n",
    "        label = \"%s:%s\"%(classes[classId],label)\n",
    "    cv.putText(frame, label, (left, top), cv.FONT_HERSHEY_SIMPLEX, 2, (255,255,255),3)"
   ]
  },
  {
   "cell_type": "code",
   "execution_count": 45,
   "metadata": {},
   "outputs": [],
   "source": [
    "classes = ['gun']"
   ]
  },
  {
   "cell_type": "code",
   "execution_count": 64,
   "metadata": {},
   "outputs": [],
   "source": [
    "# Give the configuration and weight files for the model and load the network using them.\n",
    "# modelConfiguration = \"model_in_training/yolov3-gun_pablo.cfg\"\n",
    "# modelWeights = \"model_in_training/yolov3-gun_pablo_5800.weights\"\n",
    "\n",
    "modelConfiguration = \"/home/jpoberhauser/Desktop/darknet/gun2050/yolov3-gun2050test.cfg\"\n",
    "modelWeights = \"/home/jpoberhauser/Desktop/darknet/gun2050/yolov3-gun2050_18000.weights\""
   ]
  },
  {
   "cell_type": "code",
   "execution_count": 65,
   "metadata": {},
   "outputs": [],
   "source": [
    "net = cv.dnn.readNetFromDarknet(modelConfiguration, modelWeights)\n",
    "net.setPreferableBackend(cv.dnn.DNN_BACKEND_OPENCV)\n",
    "net.setPreferableTarget(cv.dnn.DNN_TARGET_CPU)"
   ]
  },
  {
   "cell_type": "code",
   "execution_count": 66,
   "metadata": {},
   "outputs": [],
   "source": [
    "cap = cv.VideoCapture('data/0001.jpg')\n",
    "hasFrame, frame = cap.read()"
   ]
  },
  {
   "cell_type": "code",
   "execution_count": 67,
   "metadata": {},
   "outputs": [],
   "source": [
    "# Create a 4D blob from a frame.\n",
    "blob = cv.dnn.blobFromImage(frame, 1/255, (inpWidth, inpHeight), [0,0,0], 1, crop=False)\n",
    "# Sets the input to the network\n",
    "net.setInput(blob)\n"
   ]
  },
  {
   "cell_type": "code",
   "execution_count": 68,
   "metadata": {},
   "outputs": [
    {
     "data": {
      "text/plain": [
       "['yolo_82', 'yolo_94', 'yolo_106']"
      ]
     },
     "execution_count": 68,
     "metadata": {},
     "output_type": "execute_result"
    }
   ],
   "source": [
    "getOutputsNames(net)"
   ]
  },
  {
   "cell_type": "code",
   "execution_count": 69,
   "metadata": {},
   "outputs": [
    {
     "ename": "error",
     "evalue": "OpenCV(4.1.0) /io/opencv/modules/core/src/ocl.cpp:5440: error: (-220:Unknown error code -220) OpenCL error CL_OUT_OF_RESOURCES (-5) during call: clEnqueueWriteBuffer(q, handle=0x1648a800, CL_TRUE, offset=0, sz=16, data=0xf108520, 0, 0, 0) in function 'upload'\n",
     "output_type": "error",
     "traceback": [
      "\u001b[0;31m---------------------------------------------------------------------------\u001b[0m",
      "\u001b[0;31merror\u001b[0m                                     Traceback (most recent call last)",
      "\u001b[0;32m<ipython-input-69-7e3229059c62>\u001b[0m in \u001b[0;36m<module>\u001b[0;34m\u001b[0m\n\u001b[1;32m      1\u001b[0m \u001b[0;31m# Runs the forward pass to get output of the output layers\u001b[0m\u001b[0;34m\u001b[0m\u001b[0;34m\u001b[0m\u001b[0;34m\u001b[0m\u001b[0m\n\u001b[0;32m----> 2\u001b[0;31m \u001b[0mouts\u001b[0m \u001b[0;34m=\u001b[0m \u001b[0mnet\u001b[0m\u001b[0;34m.\u001b[0m\u001b[0mforward\u001b[0m\u001b[0;34m(\u001b[0m\u001b[0mgetOutputsNames\u001b[0m\u001b[0;34m(\u001b[0m\u001b[0mnet\u001b[0m\u001b[0;34m)\u001b[0m\u001b[0;34m)\u001b[0m\u001b[0;34m\u001b[0m\u001b[0;34m\u001b[0m\u001b[0m\n\u001b[0m",
      "\u001b[0;31merror\u001b[0m: OpenCV(4.1.0) /io/opencv/modules/core/src/ocl.cpp:5440: error: (-220:Unknown error code -220) OpenCL error CL_OUT_OF_RESOURCES (-5) during call: clEnqueueWriteBuffer(q, handle=0x1648a800, CL_TRUE, offset=0, sz=16, data=0xf108520, 0, 0, 0) in function 'upload'\n"
     ]
    }
   ],
   "source": [
    "# Runs the forward pass to get output of the output layers\n",
    "outs = net.forward(getOutputsNames(net))"
   ]
  },
  {
   "cell_type": "code",
   "execution_count": null,
   "metadata": {},
   "outputs": [],
   "source": []
  },
  {
   "cell_type": "code",
   "execution_count": null,
   "metadata": {},
   "outputs": [],
   "source": []
  },
  {
   "cell_type": "code",
   "execution_count": null,
   "metadata": {},
   "outputs": [],
   "source": [
    "import cv2 as cv\n",
    "import numpy as np\n",
    "import os\n",
    "import argparse\n",
    "from pathlib import Path\n",
    "\n",
    "\n",
    "PATH = Path('data/')\n",
    "\n",
    "parser = argparse.ArgumentParser(description='Inference on an image/video/webcam')\n",
    "parser.add_argument('--image',   help='Image. Specifiy image location')\n",
    "parser.add_argument('--video',   help='Video. Specifiy video location')\n",
    "args = parser.parse_args()\n",
    "\n",
    "# Initialize the parameters\n",
    "confThreshold = 0.5  #Confidence threshold\n",
    "nmsThreshold = 0.4   #Non-maximum suppression threshold\n",
    "inpWidth = 416       #Width of network's input image\n",
    "inpHeight = 416      #Height of network's input image\n",
    "\n",
    "# Load names of classes\n",
    "classesFile =  \"original_yolo/coco.names\"\n",
    "classes = None\n",
    "with open(classesFile, 'rt') as f:\n",
    "    classes = f.read().rstrip('\\n').split('\\n')\n",
    "classes = ['gun']\n",
    "\n",
    "# Give the configuration and weight files for the model and load the network using them.\n",
    "modelConfiguration = \"yolov3-gun_pablo.cfg\"\n",
    "modelWeights = \"yolov3-gun_pablo_5800.weights\"\n",
    " \n",
    "net = cv.dnn.readNetFromDarknet(modelConfiguration, modelWeights)\n",
    "net.setPreferableBackend(cv.dnn.DNN_BACKEND_OPENCV)\n",
    "net.setPreferableTarget(cv.dnn.DNN_TARGET_CPU)\n",
    "\n",
    "def getOutputsNames(net):\n",
    "    layerNames = net.getLayerNames()\n",
    "    return [layerNames[i[0] - 1] for i in net.getUnconnectedOutLayers()]\n",
    "\n",
    "def drawPred(classId, conf, left, top, right,bottom):\n",
    "    cv.rectangle(frame, (left, top), (right, bottom),(255,178,50),3)\n",
    "    label = \"%.2f\" % conf\n",
    "    if classes:\n",
    "        assert(classId<len(classes))\n",
    "        label = \"%s:%s\"%(classes[classId],label)\n",
    "    cv.putText(frame, label, (left, top), cv.FONT_HERSHEY_SIMPLEX, 2, (255,255,255),3)\n",
    "\n",
    "\n",
    "\n",
    "def postprocess(frame, outs):\n",
    "    #yolo outputs centerX, centerY, \n",
    "    # width, height, conf, class1, class2...class80\n",
    "    frameHeight = frame.shape[0]\n",
    "    frameWidth = frame.shape[1]\n",
    "\n",
    "    classIDs = []\n",
    "    confidences = []\n",
    "    boxes = []\n",
    "\n",
    "    for out in outs:\n",
    "        for detection in out:\n",
    "            scores = detection[5:]\n",
    "            #gets the ids of classes\n",
    "            classID = np.argmax(scores)\n",
    "            #probability of classID\n",
    "            confidence = scores[classID]\n",
    "\n",
    "\n",
    "            if confidence > confThreshold:\n",
    "                centerX = int(detection[0] * frameWidth)\n",
    "                centerY = int(detection[1] * frameHeight)\n",
    "\n",
    "                width = int(detection[2] * frameWidth)\n",
    "                height = int(detection[3] * frameHeight)\n",
    "\n",
    "                left = int(centerX - width/2)\n",
    "                top = int(centerY - height /2)\n",
    "\n",
    "                classIDs.append(classID)\n",
    "                confidences.append(float(confidence))\n",
    "                boxes.append([left, top, width, height])\n",
    "\n",
    "    indeces = cv.dnn.NMSBoxes(boxes, confidences, confThreshold, nmsThreshold)\n",
    "\n",
    "    for i in indeces:\n",
    "        i = i[0]\n",
    "        box = boxes[i]\n",
    "        left = box[0]\n",
    "        top = box[1]\n",
    "        width = box[2]\n",
    "        height = box[3]\n",
    "\n",
    "        drawPred(classIDs[i], confidences[i], left, top, left + width, top + height)\n",
    "\n",
    "\n",
    "outputFile = \"yolo_out_py.avi\"\n",
    "if (args.image):\n",
    "    # Open the image file\n",
    "    if not os.path.isfile(args.image):\n",
    "        print(\"Input image file \", args.image, \" doesn't exist\")\n",
    "        sys.exit(1)\n",
    "    cap = cv.VideoCapture(args.image)\n",
    "    outputFile = args.image[:-4]+'_yolo_out_py.jpg'\n",
    "elif (args.video):\n",
    "    # Open the video file\n",
    "    if not os.path.isfile(args.video):\n",
    "        print(\"Input video file \", args.video, \" doesn't exist\")\n",
    "        sys.exit(1)\n",
    "    cap = cv.VideoCapture(args.video)\n",
    "    outputFile = args.video[:-4]+'_yolo_out_py.avi'\n",
    "else:\n",
    "    # Webcam input\n",
    "    cap = cv.VideoCapture(0)\n",
    "    \n",
    "# Get the video writer initialized to save the output video\n",
    "if (not args.image):\n",
    "    vid_writer = cv.VideoWriter(outputFile, \n",
    "                                cv.VideoWriter_fourcc('M','J','P','G'), \n",
    "                                30,\n",
    "                                (round(cap.get(cv.CAP_PROP_FRAME_WIDTH)),round(cap.get(cv.CAP_PROP_FRAME_HEIGHT))))\n",
    "\n",
    "\n",
    "## some opencv stuff\n",
    "\n",
    "winName = 'DL OD with OpenCV'\n",
    "cv.namedWindow(winName, cv.WINDOW_NORMAL)\n",
    "cv.resizeWindow(winName, 1000, 1000)\n",
    "\n",
    "\n",
    "while cv.waitKey(1) < 0:\n",
    "     \n",
    "    # get frame from the video\n",
    "    hasFrame, frame = cap.read()\n",
    "     \n",
    "    # Stop the program if reached end of video\n",
    "    if not hasFrame:\n",
    "        print(\"Done processing !!!\")\n",
    "        print(\"Output file is stored as \", outputFile)\n",
    "        cv.waitKey(3000)\n",
    "        break\n",
    " \n",
    "    # Create a 4D blob from a frame.\n",
    "    blob = cv.dnn.blobFromImage(frame, 1/255, (inpWidth, inpHeight), [0,0,0], 1, crop=False)\n",
    " \n",
    "    # Sets the input to the network\n",
    "    net.setInput(blob)\n",
    " \n",
    "    # Runs the forward pass to get output of the output layers\n",
    "    outs = net.forward(getOutputsNames(net))\n",
    " \n",
    "    # Remove the bounding boxes with low confidence\n",
    "    postprocess(frame, outs)\n",
    " \n",
    "    # Put efficiency information. The function getPerfProfile returns the \n",
    "    # overall time for inference(t) and the timings for each of the layers(in layersTimes)\n",
    "    t, _ = net.getPerfProfile()\n",
    "    label = 'Inference time: %.2f ms' % (t * 1000.0 / cv.getTickFrequency())\n",
    "    cv.putText(frame, label, (0, 15), cv.FONT_HERSHEY_SIMPLEX, 0.5, (0, 0, 255))\n",
    " \n",
    "    # Write the frame with the detection boxes\n",
    "    if (args.image):\n",
    "        cv.imwrite(outputFile, frame.astype(np.uint8));\n",
    "    else:\n",
    "        vid_writer.write(frame.astype(np.uint8))\n",
    "\n"
   ]
  }
 ],
 "metadata": {
  "kernelspec": {
   "display_name": "Python 3",
   "language": "python",
   "name": "python3"
  },
  "language_info": {
   "codemirror_mode": {
    "name": "ipython",
    "version": 3
   },
   "file_extension": ".py",
   "mimetype": "text/x-python",
   "name": "python",
   "nbconvert_exporter": "python",
   "pygments_lexer": "ipython3",
   "version": "3.6.7"
  }
 },
 "nbformat": 4,
 "nbformat_minor": 2
}
